{
 "cells": [
  {
   "cell_type": "code",
   "execution_count": null,
   "metadata": {
    "collapsed": true
   },
   "outputs": [],
   "source": [
    "import numpy as np\n",
    "\n",
    "from keras import models\n",
    "from keras import layers\n",
    "from keras import activations\n",
    "from keras import optimizers\n",
    "from keras import losses\n",
    "from keras import regularizers\n",
    "from keras.datasets import reuters\n",
    "from keras.utils.np_utils import to_categorical\n",
    "\n",
    "import matplotlib.pyplot as plt\n",
    "\n",
    "NUM_WORDS = 10000\n",
    "\n",
    "NUM_CLASSES = 46\n",
    "\n",
    "(train_data, train_labels), (test_data, test_labels) = reuters.load_data(num_words=NUM_WORDS)\n",
    "\n",
    "word_index = reuters.get_word_index()\n",
    "\n",
    "\n",
    "def vectorize_sequences(sequences, dimension=NUM_WORDS):\n",
    "    table = np.zeros(shape=(len(sequences), dimension), dtype=np.float32)\n",
    "    for i, seq in enumerate(sequences):\n",
    "        table[i, seq] = 1.0\n",
    "    return table\n",
    "\n",
    "\n",
    "def train_val_split(x, y):\n",
    "    return (x[:1000], y[:1000]), (x[1000:], y[1000:])"
   ]
  },
  {
   "cell_type": "code",
   "execution_count": 62,
   "metadata": {
    "collapsed": true
   },
   "outputs": [],
   "source": [
    "def plot_history(history):\n",
    "    hist_dict = history.history\n",
    "    loss_values = hist_dict['loss']\n",
    "    val_loss_values = hist_dict['val_loss']\n",
    "    acc_values = hist_dict['acc']\n",
    "    val_acc_values = hist_dict['val_acc']\n",
    "\n",
    "    epochs = range(1, len(loss_values) + 1)\n",
    "\n",
    "    fig, (ax0, ax1) = plt.subplots(nrows=2, ncols=1,\n",
    "                                   sharex='all', figsize=(10, 7))\n",
    "    ax0.plot(epochs, loss_values, 'bo')\n",
    "    ax0.plot(epochs, val_loss_values, 'b+')\n",
    "    ax0.set_ylabel('Loss')\n",
    "\n",
    "    ax1.plot(epochs, acc_values, 'bo')\n",
    "    ax1.plot(epochs, val_acc_values, 'b+')\n",
    "    ax1.set_ylabel('Accuracy')\n",
    "\n",
    "    plt.show()"
   ]
  },
  {
   "cell_type": "code",
   "execution_count": 70,
   "metadata": {
    "collapsed": true
   },
   "outputs": [],
   "source": [
    "x_train = vectorize_sequences(train_data)\n",
    "x_test = vectorize_sequences(test_data)\n",
    "\n",
    "# using one-hot encodinf for labels\n",
    "y_train = to_categorical(train_labels, num_classes=NUM_CLASSES)\n",
    "y_test = to_categorical(test_labels, num_classes=NUM_CLASSES)\n",
    "\n",
    "(partial_x_train, partial_y_train), (x_val, y_val) = train_val_split(x_train, y_train)"
   ]
  },
  {
   "cell_type": "code",
   "execution_count": 72,
   "metadata": {},
   "outputs": [
    {
     "name": "stdout",
     "output_type": "stream",
     "text": [
      "Train on 1000 samples, validate on 7982 samples\n",
      "Epoch 1/20\n",
      "1000/1000 [==============================] - 0s - loss: 3.7868 - acc: 0.1490 - val_loss: 3.5454 - val_acc: 0.3463\n",
      "Epoch 2/20\n",
      "1000/1000 [==============================] - 0s - loss: 3.3842 - acc: 0.4230 - val_loss: 3.1456 - val_acc: 0.5064\n",
      "Epoch 3/20\n",
      "1000/1000 [==============================] - 0s - loss: 2.8679 - acc: 0.6440 - val_loss: 2.7501 - val_acc: 0.5918\n",
      "Epoch 4/20\n",
      "1000/1000 [==============================] - 0s - loss: 2.3492 - acc: 0.6970 - val_loss: 2.4065 - val_acc: 0.6258\n",
      "Epoch 5/20\n",
      "1000/1000 [==============================] - 0s - loss: 1.9204 - acc: 0.7480 - val_loss: 2.1796 - val_acc: 0.6107\n",
      "Epoch 6/20\n",
      "1000/1000 [==============================] - 0s - loss: 1.6153 - acc: 0.7570 - val_loss: 2.0163 - val_acc: 0.6312\n",
      "Epoch 7/20\n",
      "1000/1000 [==============================] - 0s - loss: 1.3624 - acc: 0.8070 - val_loss: 1.8705 - val_acc: 0.6488\n",
      "Epoch 8/20\n",
      "1000/1000 [==============================] - 0s - loss: 1.1587 - acc: 0.8220 - val_loss: 1.7744 - val_acc: 0.6591\n",
      "Epoch 9/20\n",
      "1000/1000 [==============================] - 0s - loss: 1.0050 - acc: 0.8530 - val_loss: 1.7046 - val_acc: 0.6557\n",
      "Epoch 10/20\n",
      "1000/1000 [==============================] - 0s - loss: 0.8801 - acc: 0.8630 - val_loss: 1.6419 - val_acc: 0.6644\n",
      "Epoch 11/20\n",
      "1000/1000 [==============================] - 0s - loss: 0.7725 - acc: 0.8840 - val_loss: 1.5952 - val_acc: 0.6711\n",
      "Epoch 12/20\n",
      "1000/1000 [==============================] - 0s - loss: 0.6830 - acc: 0.8910 - val_loss: 1.5506 - val_acc: 0.6802\n",
      "Epoch 13/20\n",
      "1000/1000 [==============================] - 0s - loss: 0.6048 - acc: 0.9090 - val_loss: 1.5174 - val_acc: 0.6835\n",
      "Epoch 14/20\n",
      "1000/1000 [==============================] - 0s - loss: 0.5381 - acc: 0.9290 - val_loss: 1.4863 - val_acc: 0.6928\n",
      "Epoch 15/20\n",
      "1000/1000 [==============================] - 0s - loss: 0.4808 - acc: 0.9370 - val_loss: 1.4633 - val_acc: 0.6958\n",
      "Epoch 16/20\n",
      "1000/1000 [==============================] - 0s - loss: 0.4277 - acc: 0.9420 - val_loss: 1.4476 - val_acc: 0.6947\n",
      "Epoch 17/20\n",
      "1000/1000 [==============================] - 0s - loss: 0.3807 - acc: 0.9510 - val_loss: 1.4294 - val_acc: 0.7003\n",
      "Epoch 18/20\n",
      "1000/1000 [==============================] - 0s - loss: 0.3403 - acc: 0.9590 - val_loss: 1.4174 - val_acc: 0.7021\n",
      "Epoch 19/20\n",
      "1000/1000 [==============================] - 0s - loss: 0.3043 - acc: 0.9630 - val_loss: 1.4080 - val_acc: 0.7012\n",
      "Epoch 20/20\n",
      "1000/1000 [==============================] - 0s - loss: 0.2708 - acc: 0.9700 - val_loss: 1.3965 - val_acc: 0.7051\n"
     ]
    }
   ],
   "source": [
    "model = models.Sequential()\n",
    "model.add(layers.Dense(units=64, activation=activations.relu, input_shape=(NUM_WORDS,)))\n",
    "model.add(layers.Dense(units=64, activation=activations.relu))\n",
    "model.add(layers.Dense(units=NUM_CLASSES, activation=activations.softmax))\n",
    "\n",
    "model.compile(optimizer=optimizers.RMSprop(),\n",
    "              loss=losses.categorical_crossentropy,\n",
    "              metrics=['accuracy'])\n",
    "\n",
    "history = model.fit(x=partial_x_train, y=partial_y_train,\n",
    "                    batch_size=512, epochs=20,\n",
    "                    validation_data=(x_val, y_val))"
   ]
  },
  {
   "cell_type": "code",
   "execution_count": 39,
   "metadata": {},
   "outputs": [
    {
     "data": {
      "image/png": "[encoded data removed]",
      "text/plain": [
       "<matplotlib.figure.Figure at 0x7f90ec32c518>"
      ]
     },
     "metadata": {},
     "output_type": "display_data"
    }
   ],
   "source": [
    "plot_history(history)"
   ]
  },
  {
   "cell_type": "code",
   "execution_count": 41,
   "metadata": {},
   "outputs": [],
   "source": [
    "predictions = model.predict(x_test)"
   ]
  },
  {
   "cell_type": "code",
   "execution_count": 43,
   "metadata": {},
   "outputs": [
    {
     "data": {
      "text/plain": [
       "array([ 3, 10,  1, ...,  3,  3,  1])"
      ]
     },
     "execution_count": 43,
     "metadata": {},
     "output_type": "execute_result"
    }
   ],
   "source": [
    "np.argmax(predictions, axis=1)"
   ]
  },
  {
   "cell_type": "code",
   "execution_count": 53,
   "metadata": {},
   "outputs": [
    {
     "data": {
      "text/plain": [
       "[array([0, 1]), array([2, 3, 4, 5, 6, 7, 8, 9])]"
      ]
     },
     "execution_count": 53,
     "metadata": {},
     "output_type": "execute_result"
    }
   ],
   "source": [
    "np.split(np.arange(10), [2])"
   ]
  },
  {
   "cell_type": "markdown",
   "metadata": {},
   "source": [
    "The same, but using array of ints as labels (without one-hot encoding)"
   ]
  },
  {
   "cell_type": "code",
   "execution_count": null,
   "metadata": {
    "collapsed": true
   },
   "outputs": [],
   "source": [
    "# labels as int arrays (using sparse cross entropy loss)\n",
    "y_train = np.asarray(train_labels)\n",
    "y_test = np.asarray(test_labels)\n",
    "\n",
    "(partial_x_train, partial_y_train), (x_val, y_val) = train_val_split(x_train, y_train)"
   ]
  },
  {
   "cell_type": "code",
   "execution_count": 74,
   "metadata": {},
   "outputs": [
    {
     "name": "stdout",
     "output_type": "stream",
     "text": [
      "Train on 1000 samples, validate on 7982 samples\n",
      "Epoch 1/20\n",
      "1000/1000 [==============================] - 0s - loss: 5.4853 - acc: 0.1810 - val_loss: 4.8395 - val_acc: 0.4840\n",
      "Epoch 2/20\n",
      "1000/1000 [==============================] - 0s - loss: 4.6268 - acc: 0.4960 - val_loss: 4.2420 - val_acc: 0.4757\n",
      "Epoch 3/20\n",
      "1000/1000 [==============================] - 0s - loss: 4.0019 - acc: 0.5040 - val_loss: 3.8156 - val_acc: 0.5044\n",
      "Epoch 4/20\n",
      "1000/1000 [==============================] - 0s - loss: 3.5299 - acc: 0.5540 - val_loss: 3.4843 - val_acc: 0.5306\n",
      "Epoch 5/20\n",
      "1000/1000 [==============================] - 0s - loss: 3.1487 - acc: 0.5920 - val_loss: 3.2266 - val_acc: 0.5628\n",
      "Epoch 6/20\n",
      "1000/1000 [==============================] - 0s - loss: 2.8514 - acc: 0.6330 - val_loss: 3.0404 - val_acc: 0.5882\n",
      "Epoch 7/20\n",
      "1000/1000 [==============================] - 0s - loss: 2.6141 - acc: 0.6780 - val_loss: 2.8824 - val_acc: 0.6036\n",
      "Epoch 8/20\n",
      "1000/1000 [==============================] - 0s - loss: 2.4153 - acc: 0.7190 - val_loss: 2.7640 - val_acc: 0.6030\n",
      "Epoch 9/20\n",
      "1000/1000 [==============================] - 0s - loss: 2.2571 - acc: 0.7470 - val_loss: 2.6784 - val_acc: 0.6060\n",
      "Epoch 10/20\n",
      "1000/1000 [==============================] - 0s - loss: 2.1428 - acc: 0.7690 - val_loss: 2.6175 - val_acc: 0.6080\n",
      "Epoch 11/20\n",
      "1000/1000 [==============================] - 0s - loss: 2.0498 - acc: 0.7800 - val_loss: 2.5691 - val_acc: 0.6125\n",
      "Epoch 12/20\n",
      "1000/1000 [==============================] - 0s - loss: 1.9721 - acc: 0.8010 - val_loss: 2.5081 - val_acc: 0.6295\n",
      "Epoch 13/20\n",
      "1000/1000 [==============================] - 0s - loss: 1.8880 - acc: 0.8190 - val_loss: 2.4585 - val_acc: 0.6406\n",
      "Epoch 14/20\n",
      "1000/1000 [==============================] - 0s - loss: 1.8180 - acc: 0.8280 - val_loss: 2.4155 - val_acc: 0.6574\n",
      "Epoch 15/20\n",
      "1000/1000 [==============================] - 0s - loss: 1.7626 - acc: 0.8410 - val_loss: 2.3814 - val_acc: 0.6725\n",
      "Epoch 16/20\n",
      "1000/1000 [==============================] - 0s - loss: 1.7155 - acc: 0.8570 - val_loss: 2.3550 - val_acc: 0.6685\n",
      "Epoch 17/20\n",
      "1000/1000 [==============================] - 0s - loss: 1.6670 - acc: 0.8610 - val_loss: 2.3299 - val_acc: 0.6723\n",
      "Epoch 18/20\n",
      "1000/1000 [==============================] - 0s - loss: 1.6253 - acc: 0.8710 - val_loss: 2.3083 - val_acc: 0.6775\n",
      "Epoch 19/20\n",
      "1000/1000 [==============================] - 0s - loss: 1.5876 - acc: 0.8770 - val_loss: 2.2923 - val_acc: 0.6810\n",
      "Epoch 20/20\n",
      "1000/1000 [==============================] - 0s - loss: 1.5661 - acc: 0.8780 - val_loss: 2.3048 - val_acc: 0.6728\n"
     ]
    },
    {
     "data": {
      "image/png": "[encoded data removed]",
      "text/plain": [
       "<matplotlib.figure.Figure at 0x7f90eb2ea940>"
      ]
     },
     "metadata": {},
     "output_type": "display_data"
    }
   ],
   "source": [
    "model = models.Sequential()\n",
    "model.add(layers.Dense(units=64, activation=activations.relu, kernel_regularizer=regularizers.l2(0.01), input_shape=(NUM_WORDS,)))\n",
    "model.add(layers.Dense(units=64, activation=activations.relu, kernel_regularizer=regularizers.l2(0.01)))\n",
    "model.add(layers.Dense(units=NUM_CLASSES, activation=activations.softmax))\n",
    "\n",
    "model.compile(optimizer=optimizers.RMSprop(),\n",
    "              loss=losses.sparse_categorical_crossentropy,\n",
    "              metrics=['accuracy'])\n",
    "\n",
    "history = model.fit(x=partial_x_train, y=partial_y_train,\n",
    "                    batch_size=512, epochs=20,\n",
    "                    validation_data=(x_val, y_val))\n",
    "\n",
    "plot_history(history)"
   ]
  },
  {
   "cell_type": "code",
   "execution_count": 64,
   "metadata": {},
   "outputs": [
    {
     "data": {
      "image/png": "[encoded data removed]",
      "text/plain": [
       "<matplotlib.figure.Figure at 0x7f90ecb0f6a0>"
      ]
     },
     "metadata": {},
     "output_type": "display_data"
    }
   ],
   "source": [
    "plot_history(history)"
   ]
  },
  {
   "cell_type": "code",
   "execution_count": 75,
   "metadata": {
    "collapsed": true
   },
   "outputs": [],
   "source": [
    "def train_and_plot(m):\n",
    "    h = m.fit(x=partial_x_train, y=partial_y_train,\n",
    "              batch_size=512, epochs=20,\n",
    "              validation_data=(x_val, y_val))\n",
    "    plot_history(h)"
   ]
  },
  {
   "cell_type": "code",
   "execution_count": 76,
   "metadata": {
    "collapsed": true
   },
   "outputs": [
    {
     "name": "stdout",
     "output_type": "stream",
     "text": [
      "Train on 1000 samples, validate on 7982 samples\n",
      "Epoch 1/20\n",
      "1000/1000 [==============================] - 0s - loss: 3.7822 - acc: 0.1860 - val_loss: 3.5260 - val_acc: 0.4073\n",
      "Epoch 2/20\n",
      "1000/1000 [==============================] - 0s - loss: 3.3473 - acc: 0.4700 - val_loss: 3.0969 - val_acc: 0.4733\n",
      "Epoch 3/20\n",
      "1000/1000 [==============================] - 0s - loss: 2.8143 - acc: 0.5730 - val_loss: 2.7170 - val_acc: 0.5347\n",
      "Epoch 4/20\n",
      "1000/1000 [==============================] - 0s - loss: 2.3244 - acc: 0.6440 - val_loss: 2.4021 - val_acc: 0.5814\n",
      "Epoch 5/20\n",
      "1000/1000 [==============================] - 0s - loss: 1.9186 - acc: 0.7120 - val_loss: 2.1651 - val_acc: 0.5973\n",
      "Epoch 6/20\n",
      "1000/1000 [==============================] - 0s - loss: 1.5966 - acc: 0.7510 - val_loss: 1.9836 - val_acc: 0.6371\n",
      "Epoch 7/20\n",
      "1000/1000 [==============================] - 0s - loss: 1.3431 - acc: 0.7980 - val_loss: 1.8549 - val_acc: 0.6417\n",
      "Epoch 8/20\n",
      "1000/1000 [==============================] - 0s - loss: 1.1473 - acc: 0.8220 - val_loss: 1.7485 - val_acc: 0.6584\n",
      "Epoch 9/20\n",
      "1000/1000 [==============================] - 0s - loss: 0.9906 - acc: 0.8510 - val_loss: 1.6714 - val_acc: 0.6619\n",
      "Epoch 10/20\n",
      "1000/1000 [==============================] - 0s - loss: 0.8624 - acc: 0.8680 - val_loss: 1.6148 - val_acc: 0.6654\n",
      "Epoch 11/20\n",
      "1000/1000 [==============================] - 0s - loss: 0.7590 - acc: 0.8830 - val_loss: 1.5660 - val_acc: 0.6746\n",
      "Epoch 12/20\n",
      "1000/1000 [==============================] - 0s - loss: 0.6696 - acc: 0.8970 - val_loss: 1.5227 - val_acc: 0.6833\n",
      "Epoch 13/20\n",
      "1000/1000 [==============================] - 0s - loss: 0.5939 - acc: 0.9090 - val_loss: 1.4902 - val_acc: 0.6869\n",
      "Epoch 14/20\n",
      "1000/1000 [==============================] - 0s - loss: 0.5278 - acc: 0.9250 - val_loss: 1.4616 - val_acc: 0.6929\n",
      "Epoch 15/20\n",
      "1000/1000 [==============================] - 0s - loss: 0.4694 - acc: 0.9370 - val_loss: 1.4425 - val_acc: 0.6957\n",
      "Epoch 16/20\n",
      "1000/1000 [==============================] - 0s - loss: 0.4177 - acc: 0.9450 - val_loss: 1.4228 - val_acc: 0.6999\n",
      "Epoch 17/20\n",
      "1000/1000 [==============================] - 0s - loss: 0.3733 - acc: 0.9560 - val_loss: 1.4246 - val_acc: 0.6944\n",
      "Epoch 18/20\n",
      "1000/1000 [==============================] - 0s - loss: 0.3337 - acc: 0.9570 - val_loss: 1.3985 - val_acc: 0.7038\n",
      "Epoch 19/20\n",
      "1000/1000 [==============================] - 0s - loss: 0.2970 - acc: 0.9630 - val_loss: 1.3902 - val_acc: 0.7072\n",
      "Epoch 20/20\n",
      "1000/1000 [==============================] - 0s - loss: 0.2646 - acc: 0.9720 - val_loss: 1.3823 - val_acc: 0.7072\n"
     ]
    },
    {
     "data": {
      "image/png": "[encoded data removed]",
      "text/plain": [
       "<matplotlib.figure.Figure at 0x7f90eaf9df98>"
      ]
     },
     "metadata": {},
     "output_type": "display_data"
    }
   ],
   "source": [
    "model = models.Sequential()\n",
    "model.add(layers.Dense(units=64, activation=activations.relu, input_shape=(NUM_WORDS,)))\n",
    "model.add(layers.Dense(units=64, activation=activations.relu))\n",
    "model.add(layers.Dense(units=NUM_CLASSES, activation=activations.softmax))\n",
    "\n",
    "model.compile(optimizer=optimizers.RMSprop(),\n",
    "              loss=losses.sparse_categorical_crossentropy,\n",
    "              metrics=['accuracy'])\n",
    "train_and_plot(model)"
   ]
  },
  {
   "cell_type": "markdown",
   "metadata": {},
   "source": [
    "Dropout"
   ]
  },
  {
   "cell_type": "code",
   "execution_count": 78,
   "metadata": {},
   "outputs": [
    {
     "name": "stdout",
     "output_type": "stream",
     "text": [
      "Train on 1000 samples, validate on 7982 samples\n",
      "Epoch 1/20\n",
      "1000/1000 [==============================] - 0s - loss: 3.7698 - acc: 0.0600 - val_loss: 3.5790 - val_acc: 0.4759\n",
      "Epoch 2/20\n",
      "1000/1000 [==============================] - 0s - loss: 3.5069 - acc: 0.2280 - val_loss: 3.2444 - val_acc: 0.4788\n",
      "Epoch 3/20\n",
      "1000/1000 [==============================] - 0s - loss: 3.1859 - acc: 0.3580 - val_loss: 2.9392 - val_acc: 0.4970\n",
      "Epoch 4/20\n",
      "1000/1000 [==============================] - 0s - loss: 2.8909 - acc: 0.4200 - val_loss: 2.6848 - val_acc: 0.5081\n",
      "Epoch 5/20\n",
      "1000/1000 [==============================] - 0s - loss: 2.6076 - acc: 0.4770 - val_loss: 2.4525 - val_acc: 0.5183\n",
      "Epoch 6/20\n",
      "1000/1000 [==============================] - 0s - loss: 2.4167 - acc: 0.4840 - val_loss: 2.2661 - val_acc: 0.5288\n",
      "Epoch 7/20\n",
      "1000/1000 [==============================] - 0s - loss: 2.2172 - acc: 0.5160 - val_loss: 2.1235 - val_acc: 0.5401\n",
      "Epoch 8/20\n",
      "1000/1000 [==============================] - 0s - loss: 2.0583 - acc: 0.5330 - val_loss: 2.0064 - val_acc: 0.5600\n",
      "Epoch 9/20\n",
      "1000/1000 [==============================] - 0s - loss: 1.9515 - acc: 0.5600 - val_loss: 1.9074 - val_acc: 0.5703\n",
      "Epoch 10/20\n",
      "1000/1000 [==============================] - 0s - loss: 1.7959 - acc: 0.5930 - val_loss: 1.8265 - val_acc: 0.5971\n",
      "Epoch 11/20\n",
      "1000/1000 [==============================] - 0s - loss: 1.6662 - acc: 0.6090 - val_loss: 1.7578 - val_acc: 0.6056\n",
      "Epoch 12/20\n",
      "1000/1000 [==============================] - 0s - loss: 1.5880 - acc: 0.6020 - val_loss: 1.7114 - val_acc: 0.6156\n",
      "Epoch 13/20\n",
      "1000/1000 [==============================] - 0s - loss: 1.5501 - acc: 0.6230 - val_loss: 1.6704 - val_acc: 0.6263\n",
      "Epoch 14/20\n",
      "1000/1000 [==============================] - 0s - loss: 1.4419 - acc: 0.6540 - val_loss: 1.6269 - val_acc: 0.6402\n",
      "Epoch 15/20\n",
      "1000/1000 [==============================] - 0s - loss: 1.4143 - acc: 0.6500 - val_loss: 1.5935 - val_acc: 0.6502\n",
      "Epoch 16/20\n",
      "1000/1000 [==============================] - 0s - loss: 1.3545 - acc: 0.6740 - val_loss: 1.5702 - val_acc: 0.6536\n",
      "Epoch 17/20\n",
      "1000/1000 [==============================] - 0s - loss: 1.3100 - acc: 0.6670 - val_loss: 1.5498 - val_acc: 0.6564\n",
      "Epoch 18/20\n",
      "1000/1000 [==============================] - 0s - loss: 1.2364 - acc: 0.6950 - val_loss: 1.5296 - val_acc: 0.6576\n",
      "Epoch 19/20\n",
      "1000/1000 [==============================] - 0s - loss: 1.1877 - acc: 0.6860 - val_loss: 1.5027 - val_acc: 0.6688\n",
      "Epoch 20/20\n",
      "1000/1000 [==============================] - 0s - loss: 1.1604 - acc: 0.7000 - val_loss: 1.4911 - val_acc: 0.6690\n"
     ]
    },
    {
     "data": {
      "image/png": "[encoded data removed]",
      "text/plain": [
       "<matplotlib.figure.Figure at 0x7f90eac3e2e8>"
      ]
     },
     "metadata": {},
     "output_type": "display_data"
    }
   ],
   "source": [
    "model = models.Sequential()\n",
    "model.add(layers.Dense(units=64, activation=activations.relu, input_shape=(NUM_WORDS,)))\n",
    "model.add(layers.Dropout(0.5))\n",
    "model.add(layers.Dense(units=64, activation=activations.relu))\n",
    "model.add(layers.Dropout(0.5))\n",
    "model.add(layers.Dense(units=NUM_CLASSES, activation=activations.softmax))\n",
    "model.compile(optimizer=optimizers.RMSprop(),\n",
    "              loss=losses.sparse_categorical_crossentropy,\n",
    "              metrics=['accuracy'])\n",
    "train_and_plot(model)"
   ]
  },
  {
   "cell_type": "code",
   "execution_count": 79,
   "metadata": {},
   "outputs": [
    {
     "name": "stdout",
     "output_type": "stream",
     "text": [
      "_________________________________________________________________\n",
      "Layer (type)                 Output Shape              Param #   \n",
      "=================================================================\n",
      "dense_43 (Dense)             (None, 64)                640064    \n",
      "_________________________________________________________________\n",
      "dropout_3 (Dropout)          (None, 64)                0         \n",
      "_________________________________________________________________\n",
      "dense_44 (Dense)             (None, 64)                4160      \n",
      "_________________________________________________________________\n",
      "dropout_4 (Dropout)          (None, 64)                0         \n",
      "_________________________________________________________________\n",
      "dense_45 (Dense)             (None, 46)                2990      \n",
      "=================================================================\n",
      "Total params: 647,214\n",
      "Trainable params: 647,214\n",
      "Non-trainable params: 0\n",
      "_________________________________________________________________\n"
     ]
    }
   ],
   "source": [
    "model.summary()"
   ]
  },
  {
   "cell_type": "code",
   "execution_count": 82,
   "metadata": {},
   "outputs": [],
   "source": [
    "l = model.get_layer(index=1)"
   ]
  },
  {
   "cell_type": "code",
   "execution_count": 90,
   "metadata": {},
   "outputs": [
    {
     "data": {
      "text/plain": [
       "((10000, 64), (64,))"
      ]
     },
     "execution_count": 90,
     "metadata": {},
     "output_type": "execute_result"
    }
   ],
   "source": [
    "l.get_weights()[0].shape, l.get_weights()[1].shape"
   ]
  },
  {
   "cell_type": "code",
   "execution_count": 92,
   "metadata": {},
   "outputs": [
    {
     "data": {
      "text/plain": [
       "[array([[-0.00648714,  0.00093781, -0.00519791, ..., -0.00088083,\n",
       "         -0.02308309,  0.0102544 ],\n",
       "        [ 0.05212323,  0.02272969,  0.01380597, ...,  0.00708513,\n",
       "          0.04267592,  0.02906071],\n",
       "        [ 0.02778848, -0.00905515, -0.00859334, ...,  0.00058277,\n",
       "         -0.00826269,  0.01228805],\n",
       "        ..., \n",
       "        [-0.00172019,  0.01615324, -0.00922148, ..., -0.00297321,\n",
       "         -0.01907684,  0.0142938 ],\n",
       "        [ 0.01538392,  0.01692404, -0.01398678, ..., -0.01308371,\n",
       "          0.01516707, -0.01817286],\n",
       "        [ 0.00356522, -0.01510791, -0.02718809, ...,  0.01059696,\n",
       "          0.00347433,  0.00172098]], dtype=float32),\n",
       " array([ 0.03341747,  0.00120659,  0.03408289,  0.03721949,  0.03913962,\n",
       "         0.03039206,  0.02127876,  0.01778788,  0.01153561,  0.00148784,\n",
       "         0.04184243,  0.01653747,  0.026618  ,  0.03646997,  0.03603317,\n",
       "         0.03550379,  0.009496  ,  0.01474375,  0.01197664,  0.03095589,\n",
       "         0.02286549,  0.00400361,  0.00678237,  0.03030549,  0.03655018,\n",
       "         0.03244017,  0.01869657,  0.00805696,  0.00356955,  0.01639226,\n",
       "         0.03619045,  0.02625836,  0.0227806 ,  0.02678448,  0.0305886 ,\n",
       "         0.02826831,  0.03195471,  0.00073635,  0.01418019,  0.03494832,\n",
       "         0.03109039,  0.03414531,  0.03056124,  0.01962295,  0.0130766 ,\n",
       "         0.02730284,  0.03362098,  0.02648881,  0.02192352,  0.03979615,\n",
       "         0.03556263,  0.03014947,  0.03570817,  0.03540988,  0.02461177,\n",
       "         0.01188483,  0.01380089,  0.00760368,  0.036105  ,  0.03234379,\n",
       "         0.01511797, -0.00011612,  0.0317831 ,  0.03063121], dtype=float32)]"
      ]
     },
     "execution_count": 92,
     "metadata": {},
     "output_type": "execute_result"
    }
   ],
   "source": [
    "l.get_weights()"
   ]
  }
 ],
 "metadata": {
  "kernelspec": {
   "display_name": "Python 3",
   "language": "python",
   "name": "python3"
  },
  "language_info": {
   "codemirror_mode": {
    "name": "ipython",
    "version": 3
   },
   "file_extension": ".py",
   "mimetype": "text/x-python",
   "name": "python",
   "nbconvert_exporter": "python",
   "pygments_lexer": "ipython3",
   "version": "3.6.1"
  }
 },
 "nbformat": 4,
 "nbformat_minor": 2
}
