{
 "cells": [
  {
   "cell_type": "code",
   "execution_count": 1,
   "metadata": {},
   "outputs": [
    {
     "name": "stderr",
     "output_type": "stream",
     "text": [
      "Using TensorFlow backend.\n"
     ]
    }
   ],
   "source": [
    "import numpy as np\n",
    "\n",
    "import keras\n",
    "from keras import models\n",
    "from keras import layers\n",
    "from keras import activations\n",
    "from keras import optimizers\n",
    "from keras import losses\n",
    "from keras import metrics\n",
    "from keras.datasets import imdb\n",
    "\n",
    "import matplotlib.pyplot as plt"
   ]
  },
  {
   "cell_type": "code",
   "execution_count": 2,
   "metadata": {
    "collapsed": true
   },
   "outputs": [],
   "source": [
    "NUM_WORDS = 10000\n",
    "\n",
    "(train_data, train_labels), (test_data, test_labels) = imdb.load_data(num_words=NUM_WORDS)\n",
    "\n",
    "word_index = imdb.get_word_index()\n",
    "reverse_word_index = {index: word for (word, index) in word_index.items()}"
   ]
  },
  {
   "cell_type": "code",
   "execution_count": 3,
   "metadata": {
    "collapsed": true
   },
   "outputs": [],
   "source": [
    "def decode_review(sample):\n",
    "    return ' '.join((reverse_word_index.get(index - 3, '?') for index in sample))\n",
    "\n",
    "\n",
    "def vectorize_sequences(sequences, dimension=NUM_WORDS):\n",
    "    table = np.zeros(shape=(len(sequences), dimension), dtype=np.float32)\n",
    "    for i, seq in enumerate(sequences):\n",
    "        table[i, seq] = 1.0\n",
    "    return table\n",
    "\n",
    "\n",
    "x_train = vectorize_sequences(train_data)\n",
    "x_test = vectorize_sequences(test_data)\n",
    "\n",
    "y_train = np.asarray(train_labels).astype(np.float32)\n",
    "y_test = np.asarray(test_labels).astype(np.float32)"
   ]
  },
  {
   "cell_type": "code",
   "execution_count": null,
   "metadata": {
    "collapsed": true
   },
   "outputs": [],
   "source": [
    "x_val = x_train[:10000]\n",
    "partial_x_train = x_train[10000:]\n",
    "y_val = y_train[:10000]\n",
    "partial_y_train = y_train[10000:]"
   ]
  },
  {
   "cell_type": "code",
   "execution_count": 4,
   "metadata": {
    "collapsed": true
   },
   "outputs": [],
   "source": [
    "model = models.Sequential()\n",
    "model.add(layers.Dense(units=16, activation=activations.relu, input_shape=(NUM_WORDS,)))\n",
    "model.add(layers.Dense(units=16, activation=activations.relu))\n",
    "model.add(layers.Dense(units=1, activation=activations.sigmoid))\n",
    "\n",
    "model.compile(optimizer=optimizers.RMSprop(),\n",
    "              loss=losses.binary_crossentropy,\n",
    "              metrics=[metrics.binary_accuracy])\n",
    "\n",
    "history = model.fit(x=partial_x_train,\n",
    "                    y=partial_y_train,\n",
    "                    epochs=20,\n",
    "                    batch_size=512,\n",
    "                    validation_data=(x_val, y_val))\n",
    "\n",
    "history_dict = history.history\n",
    "\n",
    "print(history_dict.keys())"
   ]
  },
  {
   "cell_type": "code",
   "execution_count": 6,
   "metadata": {
    "collapsed": true
   },
   "outputs": [],
   "source": [
    "def plot_history(history):\n",
    "    hist_dict = history.history\n",
    "    loss_values = hist_dict['loss']\n",
    "    val_loss_values = hist_dict['val_loss']\n",
    "    acc_values = hist_dict['binary_accuracy']\n",
    "    val_acc_values = hist_dict['val_binary_accuracy']\n",
    "\n",
    "    epochs = range(1, len(loss_values) + 1)\n",
    "\n",
    "    plt.subplot(2, 1, 1)\n",
    "    plt.plot(epochs, loss_values, 'bo')\n",
    "    plt.plot(epochs, val_loss_values, 'b+')\n",
    "    plt.xlabel('Epochs')\n",
    "    plt.ylabel('Loss')\n",
    "\n",
    "    plt.subplot(2, 1, 2)\n",
    "    plt.plot(epochs, acc_values, 'bo')\n",
    "    plt.plot(epochs, val_acc_values, 'b+')\n",
    "    plt.xlabel('Epochs')\n",
    "    plt.ylabel('Accuracy')\n",
    "\n",
    "    plt.show()"
   ]
  },
  {
   "cell_type": "code",
   "execution_count": 7,
   "metadata": {},
   "outputs": [
    {
     "data": {
      "image/png": "[encoded data removed]",
      "text/plain": [
       "<matplotlib.figure.Figure at 0x7f623c6e2630>"
      ]
     },
     "metadata": {},
     "output_type": "display_data"
    }
   ],
   "source": [
    "plot_history(history)"
   ]
  },
  {
   "cell_type": "code",
   "execution_count": 8,
   "metadata": {},
   "outputs": [
    {
     "data": {
      "text/plain": [
       "array([[  9.99705374e-01],\n",
       "       [  9.99641061e-01],\n",
       "       [  9.99998689e-01],\n",
       "       ..., \n",
       "       [  9.66318071e-01],\n",
       "       [  1.87966143e-05],\n",
       "       [  9.10963953e-01]], dtype=float32)"
      ]
     },
     "execution_count": 8,
     "metadata": {},
     "output_type": "execute_result"
    }
   ],
   "source": [
    "model.predict(x_test)"
   ]
  },
  {
   "cell_type": "markdown",
   "metadata": {},
   "source": [
    "Try 3 dense layers"
   ]
  },
  {
   "cell_type": "code",
   "execution_count": 9,
   "metadata": {
    "collapsed": true
   },
   "outputs": [
    {
     "name": "stdout",
     "output_type": "stream",
     "text": [
      "Train on 15000 samples, validate on 10000 samples\n",
      "Epoch 1/20\n",
      "15000/15000 [==============================] - 0s - loss: 0.5199 - binary_accuracy: 0.7856 - val_loss: 0.4429 - val_binary_accuracy: 0.8061\n",
      "Epoch 2/20\n",
      "15000/15000 [==============================] - 0s - loss: 0.3032 - binary_accuracy: 0.9018 - val_loss: 0.3057 - val_binary_accuracy: 0.8857\n",
      "Epoch 3/20\n",
      "15000/15000 [==============================] - 0s - loss: 0.2197 - binary_accuracy: 0.9285 - val_loss: 0.3089 - val_binary_accuracy: 0.8749\n",
      "Epoch 4/20\n",
      "15000/15000 [==============================] - 0s - loss: 0.1708 - binary_accuracy: 0.9450 - val_loss: 0.2764 - val_binary_accuracy: 0.8885\n",
      "Epoch 5/20\n",
      "15000/15000 [==============================] - 0s - loss: 0.1369 - binary_accuracy: 0.9559 - val_loss: 0.3048 - val_binary_accuracy: 0.8790\n",
      "Epoch 6/20\n",
      "15000/15000 [==============================] - 0s - loss: 0.1130 - binary_accuracy: 0.9640 - val_loss: 0.3172 - val_binary_accuracy: 0.8773\n",
      "Epoch 7/20\n",
      "15000/15000 [==============================] - 1s - loss: 0.0893 - binary_accuracy: 0.9745 - val_loss: 0.3245 - val_binary_accuracy: 0.8832\n",
      "Epoch 8/20\n",
      "15000/15000 [==============================] - 0s - loss: 0.0737 - binary_accuracy: 0.9785 - val_loss: 0.3489 - val_binary_accuracy: 0.8793\n",
      "Epoch 9/20\n",
      "15000/15000 [==============================] - 0s - loss: 0.0576 - binary_accuracy: 0.9837 - val_loss: 0.3756 - val_binary_accuracy: 0.8788\n",
      "Epoch 10/20\n",
      "15000/15000 [==============================] - 0s - loss: 0.0475 - binary_accuracy: 0.9865 - val_loss: 0.4136 - val_binary_accuracy: 0.8774\n",
      "Epoch 11/20\n",
      "15000/15000 [==============================] - 0s - loss: 0.0350 - binary_accuracy: 0.9921 - val_loss: 0.4461 - val_binary_accuracy: 0.8746\n",
      "Epoch 12/20\n",
      "15000/15000 [==============================] - 0s - loss: 0.0325 - binary_accuracy: 0.9917 - val_loss: 0.4760 - val_binary_accuracy: 0.8743\n",
      "Epoch 13/20\n",
      "15000/15000 [==============================] - 0s - loss: 0.0165 - binary_accuracy: 0.9975 - val_loss: 0.5235 - val_binary_accuracy: 0.8685\n",
      "Epoch 14/20\n",
      "15000/15000 [==============================] - 0s - loss: 0.0172 - binary_accuracy: 0.9969 - val_loss: 0.5545 - val_binary_accuracy: 0.8715\n",
      "Epoch 15/20\n",
      "15000/15000 [==============================] - 1s - loss: 0.0159 - binary_accuracy: 0.9963 - val_loss: 0.5894 - val_binary_accuracy: 0.8707\n",
      "Epoch 16/20\n",
      "15000/15000 [==============================] - 0s - loss: 0.0058 - binary_accuracy: 0.9997 - val_loss: 0.6298 - val_binary_accuracy: 0.8700\n",
      "Epoch 17/20\n",
      "15000/15000 [==============================] - 0s - loss: 0.0124 - binary_accuracy: 0.9964 - val_loss: 0.6643 - val_binary_accuracy: 0.8693\n",
      "Epoch 18/20\n",
      "15000/15000 [==============================] - 0s - loss: 0.0028 - binary_accuracy: 0.9999 - val_loss: 0.6961 - val_binary_accuracy: 0.8669\n",
      "Epoch 19/20\n",
      "15000/15000 [==============================] - 1s - loss: 0.0119 - binary_accuracy: 0.9963 - val_loss: 0.7303 - val_binary_accuracy: 0.8666\n",
      "Epoch 20/20\n",
      "15000/15000 [==============================] - 1s - loss: 0.0016 - binary_accuracy: 0.9999 - val_loss: 0.7530 - val_binary_accuracy: 0.8667\n"
     ]
    },
    {
     "data": {
      "image/png": "[encoded data removed]",
      "text/plain": [
       "<matplotlib.figure.Figure at 0x7f6238f937f0>"
      ]
     },
     "metadata": {},
     "output_type": "display_data"
    }
   ],
   "source": [
    "model = models.Sequential()\n",
    "model.add(layers.Dense(units=16, activation=activations.relu, input_shape=(NUM_WORDS,)))\n",
    "model.add(layers.Dense(units=16, activation=activations.relu))\n",
    "model.add(layers.Dense(units=16, activation=activations.relu))\n",
    "model.add(layers.Dense(units=1, activation=activations.sigmoid))\n",
    "\n",
    "model.compile(optimizer=optimizers.RMSprop(),\n",
    "              loss=losses.binary_crossentropy,\n",
    "              metrics=[metrics.binary_accuracy])\n",
    "\n",
    "history = model.fit(x=partial_x_train,\n",
    "                    y=partial_y_train,\n",
    "                    epochs=20,\n",
    "                    batch_size=512,\n",
    "                    validation_data=(x_val, y_val))"
   ]
  },
  {
   "cell_type": "code",
   "execution_count": 10,
   "metadata": {},
   "outputs": [
    {
     "data": {
      "image/png": "[encoded data removed]",
      "text/plain": [
       "<matplotlib.figure.Figure at 0x7f6238fb4e48>"
      ]
     },
     "metadata": {},
     "output_type": "display_data"
    }
   ],
   "source": [
    "plot_history(history)"
   ]
  },
  {
   "cell_type": "code",
   "execution_count": 12,
   "metadata": {},
   "outputs": [
    {
     "name": "stdout",
     "output_type": "stream",
     "text": [
      "Train on 15000 samples, validate on 10000 samples\n",
      "Epoch 1/20\n",
      "15000/15000 [==============================] - 0s - loss: 0.6137 - binary_accuracy: 0.6601 - val_loss: 0.4894 - val_binary_accuracy: 0.8512\n",
      "Epoch 2/20\n",
      "15000/15000 [==============================] - 0s - loss: 0.4990 - binary_accuracy: 0.7677 - val_loss: 0.3986 - val_binary_accuracy: 0.8684\n",
      "Epoch 3/20\n",
      "15000/15000 [==============================] - 0s - loss: 0.4190 - binary_accuracy: 0.8267 - val_loss: 0.3348 - val_binary_accuracy: 0.8785\n",
      "Epoch 4/20\n",
      "15000/15000 [==============================] - 0s - loss: 0.3615 - binary_accuracy: 0.8597 - val_loss: 0.2959 - val_binary_accuracy: 0.8861\n",
      "Epoch 5/20\n",
      "15000/15000 [==============================] - 0s - loss: 0.3216 - binary_accuracy: 0.8837 - val_loss: 0.2821 - val_binary_accuracy: 0.8888\n",
      "Epoch 6/20\n",
      "15000/15000 [==============================] - 0s - loss: 0.2760 - binary_accuracy: 0.9006 - val_loss: 0.2732 - val_binary_accuracy: 0.8913\n",
      "Epoch 7/20\n",
      "15000/15000 [==============================] - 0s - loss: 0.2393 - binary_accuracy: 0.9157 - val_loss: 0.2877 - val_binary_accuracy: 0.8863\n",
      "Epoch 8/20\n",
      "15000/15000 [==============================] - 0s - loss: 0.2184 - binary_accuracy: 0.9273 - val_loss: 0.2803 - val_binary_accuracy: 0.8901\n",
      "Epoch 9/20\n",
      "15000/15000 [==============================] - 0s - loss: 0.1885 - binary_accuracy: 0.9398 - val_loss: 0.2947 - val_binary_accuracy: 0.8892\n",
      "Epoch 10/20\n",
      "15000/15000 [==============================] - 0s - loss: 0.1752 - binary_accuracy: 0.9439 - val_loss: 0.3066 - val_binary_accuracy: 0.8866\n",
      "Epoch 11/20\n",
      "15000/15000 [==============================] - 1s - loss: 0.1531 - binary_accuracy: 0.9515 - val_loss: 0.3471 - val_binary_accuracy: 0.8822\n",
      "Epoch 12/20\n",
      "15000/15000 [==============================] - 1s - loss: 0.1397 - binary_accuracy: 0.9565 - val_loss: 0.3469 - val_binary_accuracy: 0.8875\n",
      "Epoch 13/20\n",
      "15000/15000 [==============================] - 0s - loss: 0.1203 - binary_accuracy: 0.9619 - val_loss: 0.3759 - val_binary_accuracy: 0.8861\n",
      "Epoch 14/20\n",
      "15000/15000 [==============================] - 0s - loss: 0.1139 - binary_accuracy: 0.9656 - val_loss: 0.4074 - val_binary_accuracy: 0.8886\n",
      "Epoch 15/20\n",
      "15000/15000 [==============================] - 0s - loss: 0.1068 - binary_accuracy: 0.9680 - val_loss: 0.4084 - val_binary_accuracy: 0.8852\n",
      "Epoch 16/20\n",
      "15000/15000 [==============================] - 0s - loss: 0.0977 - binary_accuracy: 0.9683 - val_loss: 0.4607 - val_binary_accuracy: 0.8846\n",
      "Epoch 17/20\n",
      "15000/15000 [==============================] - 0s - loss: 0.0906 - binary_accuracy: 0.9717 - val_loss: 0.4692 - val_binary_accuracy: 0.8829\n",
      "Epoch 18/20\n",
      "15000/15000 [==============================] - 0s - loss: 0.0849 - binary_accuracy: 0.9727 - val_loss: 0.4980 - val_binary_accuracy: 0.8843\n",
      "Epoch 19/20\n",
      "15000/15000 [==============================] - 0s - loss: 0.0767 - binary_accuracy: 0.9769 - val_loss: 0.5263 - val_binary_accuracy: 0.8831\n",
      "Epoch 20/20\n",
      "15000/15000 [==============================] - 0s - loss: 0.0740 - binary_accuracy: 0.9771 - val_loss: 0.5530 - val_binary_accuracy: 0.8846\n"
     ]
    },
    {
     "data": {
      "image/png": "[encoded data removed]",
      "text/plain": [
       "<matplotlib.figure.Figure at 0x7f62348b2ef0>"
      ]
     },
     "metadata": {},
     "output_type": "display_data"
    }
   ],
   "source": [
    "model = models.Sequential()\n",
    "model.add(layers.Dense(units=16, activation=activations.relu, input_shape=(NUM_WORDS,)))\n",
    "model.add(layers.Dropout(0.5))\n",
    "model.add(layers.Dense(units=16, activation=activations.relu))\n",
    "model.add(layers.Dropout(0.5))\n",
    "model.add(layers.Dense(units=1, activation=activations.sigmoid))\n",
    "\n",
    "model.compile(optimizer=optimizers.RMSprop(),\n",
    "              loss=losses.binary_crossentropy,\n",
    "              metrics=[metrics.binary_accuracy])\n",
    "\n",
    "history = model.fit(x=partial_x_train,\n",
    "                    y=partial_y_train,\n",
    "                    epochs=20,\n",
    "                    batch_size=512,\n",
    "                    validation_data=(x_val, y_val))\n",
    "plot_history(history)"
   ]
  },
  {
   "cell_type": "markdown",
   "metadata": {},
   "source": [
    "Dropout + L2"
   ]
  },
  {
   "cell_type": "code",
   "execution_count": 13,
   "metadata": {},
   "outputs": [
    {
     "name": "stdout",
     "output_type": "stream",
     "text": [
      "Train on 15000 samples, validate on 10000 samples\n",
      "Epoch 1/20\n",
      "15000/15000 [==============================] - 0s - loss: 0.6741 - binary_accuracy: 0.6153 - val_loss: 0.6125 - val_binary_accuracy: 0.7124\n",
      "Epoch 2/20\n",
      "15000/15000 [==============================] - 1s - loss: 0.5862 - binary_accuracy: 0.7709 - val_loss: 0.5510 - val_binary_accuracy: 0.7714\n",
      "Epoch 3/20\n",
      "15000/15000 [==============================] - 0s - loss: 0.5317 - binary_accuracy: 0.8445 - val_loss: 0.5025 - val_binary_accuracy: 0.8533\n",
      "Epoch 4/20\n",
      "15000/15000 [==============================] - 0s - loss: 0.4892 - binary_accuracy: 0.8804 - val_loss: 0.4861 - val_binary_accuracy: 0.8445\n",
      "Epoch 5/20\n",
      "15000/15000 [==============================] - 0s - loss: 0.4552 - binary_accuracy: 0.8961 - val_loss: 0.4691 - val_binary_accuracy: 0.8601\n",
      "Epoch 6/20\n",
      "15000/15000 [==============================] - 1s - loss: 0.4224 - binary_accuracy: 0.9091 - val_loss: 0.4356 - val_binary_accuracy: 0.8816\n",
      "Epoch 7/20\n",
      "15000/15000 [==============================] - 1s - loss: 0.3925 - binary_accuracy: 0.9162 - val_loss: 0.4247 - val_binary_accuracy: 0.8811\n",
      "Epoch 8/20\n",
      "15000/15000 [==============================] - 1s - loss: 0.3748 - binary_accuracy: 0.9209 - val_loss: 0.4022 - val_binary_accuracy: 0.8824\n",
      "Epoch 9/20\n",
      "15000/15000 [==============================] - 1s - loss: 0.3523 - binary_accuracy: 0.9277 - val_loss: 0.4077 - val_binary_accuracy: 0.8824\n",
      "Epoch 10/20\n",
      "15000/15000 [==============================] - 1s - loss: 0.3336 - binary_accuracy: 0.9355 - val_loss: 0.3933 - val_binary_accuracy: 0.8811\n",
      "Epoch 11/20\n",
      "15000/15000 [==============================] - 1s - loss: 0.3150 - binary_accuracy: 0.9375 - val_loss: 0.3851 - val_binary_accuracy: 0.8806\n",
      "Epoch 12/20\n",
      "15000/15000 [==============================] - 1s - loss: 0.2997 - binary_accuracy: 0.9411 - val_loss: 0.3922 - val_binary_accuracy: 0.8793\n",
      "Epoch 13/20\n",
      "15000/15000 [==============================] - 1s - loss: 0.2861 - binary_accuracy: 0.9427 - val_loss: 0.4045 - val_binary_accuracy: 0.8779\n",
      "Epoch 14/20\n",
      "15000/15000 [==============================] - 0s - loss: 0.2741 - binary_accuracy: 0.9435 - val_loss: 0.4145 - val_binary_accuracy: 0.8755\n",
      "Epoch 15/20\n",
      "15000/15000 [==============================] - 0s - loss: 0.2555 - binary_accuracy: 0.9463 - val_loss: 0.3820 - val_binary_accuracy: 0.8760\n",
      "Epoch 16/20\n",
      "15000/15000 [==============================] - 0s - loss: 0.2441 - binary_accuracy: 0.9461 - val_loss: 0.4496 - val_binary_accuracy: 0.8711\n",
      "Epoch 17/20\n",
      "15000/15000 [==============================] - 1s - loss: 0.2404 - binary_accuracy: 0.9499 - val_loss: 0.4023 - val_binary_accuracy: 0.8755\n",
      "Epoch 18/20\n",
      "15000/15000 [==============================] - 0s - loss: 0.2309 - binary_accuracy: 0.9522 - val_loss: 0.4306 - val_binary_accuracy: 0.8754\n",
      "Epoch 19/20\n",
      "15000/15000 [==============================] - 1s - loss: 0.2300 - binary_accuracy: 0.9525 - val_loss: 0.4083 - val_binary_accuracy: 0.8742\n",
      "Epoch 20/20\n",
      "15000/15000 [==============================] - 1s - loss: 0.2196 - binary_accuracy: 0.9543 - val_loss: 0.4398 - val_binary_accuracy: 0.8738\n"
     ]
    },
    {
     "data": {
      "image/png": "[encoded data removed]",
      "text/plain": [
       "<matplotlib.figure.Figure at 0x7f6238fa7438>"
      ]
     },
     "metadata": {},
     "output_type": "display_data"
    }
   ],
   "source": [
    "from keras import regularizers\n",
    "\n",
    "model = models.Sequential()\n",
    "model.add(layers.Dense(units=16, activation=activations.relu, kernel_regularizer=regularizers.l2(0.001), input_shape=(NUM_WORDS,)))\n",
    "model.add(layers.Dropout(0.5))\n",
    "model.add(layers.Dense(units=16, activation=activations.relu, kernel_regularizer=regularizers.l2(0.001)))\n",
    "model.add(layers.Dropout(0.5))\n",
    "model.add(layers.Dense(units=1, activation=activations.sigmoid))\n",
    "\n",
    "model.compile(optimizer=optimizers.RMSprop(),\n",
    "              loss=losses.binary_crossentropy,\n",
    "              metrics=[metrics.binary_accuracy])\n",
    "\n",
    "history = model.fit(x=partial_x_train,\n",
    "                    y=partial_y_train,\n",
    "                    epochs=20,\n",
    "                    batch_size=512,\n",
    "                    validation_data=(x_val, y_val))\n",
    "plot_history(history)"
   ]
  },
  {
   "cell_type": "markdown",
   "metadata": {},
   "source": [
    "Dropout + L2 + less units"
   ]
  },
  {
   "cell_type": "code",
   "execution_count": 14,
   "metadata": {},
   "outputs": [
    {
     "name": "stdout",
     "output_type": "stream",
     "text": [
      "Train on 15000 samples, validate on 10000 samples\n",
      "Epoch 1/20\n",
      "15000/15000 [==============================] - 0s - loss: 0.6856 - binary_accuracy: 0.5806 - val_loss: 0.6119 - val_binary_accuracy: 0.8395\n",
      "Epoch 2/20\n",
      "15000/15000 [==============================] - 0s - loss: 0.6251 - binary_accuracy: 0.6599 - val_loss: 0.5538 - val_binary_accuracy: 0.8653\n",
      "Epoch 3/20\n",
      "15000/15000 [==============================] - 0s - loss: 0.5854 - binary_accuracy: 0.6987 - val_loss: 0.4952 - val_binary_accuracy: 0.8721\n",
      "Epoch 4/20\n",
      "15000/15000 [==============================] - 0s - loss: 0.5512 - binary_accuracy: 0.7242 - val_loss: 0.4662 - val_binary_accuracy: 0.8752\n",
      "Epoch 5/20\n",
      "15000/15000 [==============================] - 0s - loss: 0.5208 - binary_accuracy: 0.7496 - val_loss: 0.4310 - val_binary_accuracy: 0.8818\n",
      "Epoch 6/20\n",
      "15000/15000 [==============================] - 0s - loss: 0.5001 - binary_accuracy: 0.7670 - val_loss: 0.3950 - val_binary_accuracy: 0.8811\n",
      "Epoch 7/20\n",
      "15000/15000 [==============================] - 0s - loss: 0.4705 - binary_accuracy: 0.7786 - val_loss: 0.3760 - val_binary_accuracy: 0.8832\n",
      "Epoch 8/20\n",
      "15000/15000 [==============================] - 0s - loss: 0.4451 - binary_accuracy: 0.7940 - val_loss: 0.3511 - val_binary_accuracy: 0.8847\n",
      "Epoch 9/20\n",
      "15000/15000 [==============================] - 0s - loss: 0.4297 - binary_accuracy: 0.8113 - val_loss: 0.3350 - val_binary_accuracy: 0.8874\n",
      "Epoch 10/20\n",
      "15000/15000 [==============================] - 0s - loss: 0.4087 - binary_accuracy: 0.8195 - val_loss: 0.3348 - val_binary_accuracy: 0.8860\n",
      "Epoch 11/20\n",
      "15000/15000 [==============================] - 0s - loss: 0.3945 - binary_accuracy: 0.8331 - val_loss: 0.3367 - val_binary_accuracy: 0.8811\n",
      "Epoch 12/20\n",
      "15000/15000 [==============================] - 0s - loss: 0.3800 - binary_accuracy: 0.8425 - val_loss: 0.3265 - val_binary_accuracy: 0.8864\n",
      "Epoch 13/20\n",
      "15000/15000 [==============================] - 0s - loss: 0.3692 - binary_accuracy: 0.8514 - val_loss: 0.3383 - val_binary_accuracy: 0.8838\n",
      "Epoch 14/20\n",
      "15000/15000 [==============================] - 0s - loss: 0.3567 - binary_accuracy: 0.8627 - val_loss: 0.3274 - val_binary_accuracy: 0.8819\n",
      "Epoch 15/20\n",
      "15000/15000 [==============================] - 0s - loss: 0.3410 - binary_accuracy: 0.8745 - val_loss: 0.3305 - val_binary_accuracy: 0.8820\n",
      "Epoch 16/20\n",
      "15000/15000 [==============================] - 0s - loss: 0.3331 - binary_accuracy: 0.8803 - val_loss: 0.3374 - val_binary_accuracy: 0.8845\n",
      "Epoch 17/20\n",
      "15000/15000 [==============================] - 0s - loss: 0.3224 - binary_accuracy: 0.8889 - val_loss: 0.3442 - val_binary_accuracy: 0.8848\n",
      "Epoch 18/20\n",
      "15000/15000 [==============================] - 0s - loss: 0.3170 - binary_accuracy: 0.8941 - val_loss: 0.3484 - val_binary_accuracy: 0.8845\n",
      "Epoch 19/20\n",
      "15000/15000 [==============================] - 0s - loss: 0.3063 - binary_accuracy: 0.9014 - val_loss: 0.3515 - val_binary_accuracy: 0.8830\n",
      "Epoch 20/20\n",
      "15000/15000 [==============================] - 0s - loss: 0.2996 - binary_accuracy: 0.9061 - val_loss: 0.3548 - val_binary_accuracy: 0.8826\n"
     ]
    },
    {
     "data": {
      "image/png": "[encoded data removed]",
      "text/plain": [
       "<matplotlib.figure.Figure at 0x7f61b170d7f0>"
      ]
     },
     "metadata": {},
     "output_type": "display_data"
    }
   ],
   "source": [
    "from keras import regularizers\n",
    "\n",
    "model = models.Sequential()\n",
    "model.add(layers.Dense(units=8, activation=activations.relu, kernel_regularizer=regularizers.l2(0.001), input_shape=(NUM_WORDS,)))\n",
    "model.add(layers.Dropout(0.5))\n",
    "model.add(layers.Dense(units=8, activation=activations.relu, kernel_regularizer=regularizers.l2(0.001)))\n",
    "model.add(layers.Dropout(0.5))\n",
    "model.add(layers.Dense(units=1, activation=activations.sigmoid))\n",
    "\n",
    "model.compile(optimizer=optimizers.RMSprop(),\n",
    "              loss=losses.binary_crossentropy,\n",
    "              metrics=[metrics.binary_accuracy])\n",
    "\n",
    "history = model.fit(x=partial_x_train,\n",
    "                    y=partial_y_train,\n",
    "                    epochs=20,\n",
    "                    batch_size=512,\n",
    "                    validation_data=(x_val, y_val))\n",
    "plot_history(history)"
   ]
  },
  {
   "cell_type": "markdown",
   "metadata": {},
   "source": [
    "Even less units"
   ]
  },
  {
   "cell_type": "code",
   "execution_count": 16,
   "metadata": {},
   "outputs": [
    {
     "name": "stdout",
     "output_type": "stream",
     "text": [
      "Train on 15000 samples, validate on 10000 samples\n",
      "Epoch 1/20\n",
      "15000/15000 [==============================] - 0s - loss: 0.6617 - binary_accuracy: 0.6052 - val_loss: 0.5974 - val_binary_accuracy: 0.8353\n",
      "Epoch 2/20\n",
      "15000/15000 [==============================] - 0s - loss: 0.5978 - binary_accuracy: 0.6989 - val_loss: 0.5496 - val_binary_accuracy: 0.8467\n",
      "Epoch 3/20\n",
      "15000/15000 [==============================] - 0s - loss: 0.5527 - binary_accuracy: 0.7395 - val_loss: 0.4898 - val_binary_accuracy: 0.8747\n",
      "Epoch 4/20\n",
      "15000/15000 [==============================] - 0s - loss: 0.5228 - binary_accuracy: 0.7604 - val_loss: 0.4449 - val_binary_accuracy: 0.8785\n",
      "Epoch 5/20\n",
      "15000/15000 [==============================] - 0s - loss: 0.4966 - binary_accuracy: 0.7783 - val_loss: 0.4201 - val_binary_accuracy: 0.8839\n",
      "Epoch 6/20\n",
      "15000/15000 [==============================] - 0s - loss: 0.4754 - binary_accuracy: 0.7979 - val_loss: 0.3897 - val_binary_accuracy: 0.8833\n",
      "Epoch 7/20\n",
      "15000/15000 [==============================] - 0s - loss: 0.4601 - binary_accuracy: 0.8111 - val_loss: 0.3788 - val_binary_accuracy: 0.8821\n",
      "Epoch 8/20\n",
      "15000/15000 [==============================] - 0s - loss: 0.4423 - binary_accuracy: 0.8224 - val_loss: 0.3639 - val_binary_accuracy: 0.8843\n",
      "Epoch 9/20\n",
      "15000/15000 [==============================] - 0s - loss: 0.4321 - binary_accuracy: 0.8286 - val_loss: 0.3623 - val_binary_accuracy: 0.8846\n",
      "Epoch 10/20\n",
      "15000/15000 [==============================] - 0s - loss: 0.4125 - binary_accuracy: 0.8450 - val_loss: 0.3466 - val_binary_accuracy: 0.8842\n",
      "Epoch 11/20\n",
      "15000/15000 [==============================] - 1s - loss: 0.4098 - binary_accuracy: 0.8443 - val_loss: 0.3496 - val_binary_accuracy: 0.8719\n",
      "Epoch 12/20\n",
      "15000/15000 [==============================] - 0s - loss: 0.3990 - binary_accuracy: 0.8516 - val_loss: 0.3485 - val_binary_accuracy: 0.8843\n",
      "Epoch 13/20\n",
      "15000/15000 [==============================] - 0s - loss: 0.3864 - binary_accuracy: 0.8541 - val_loss: 0.3337 - val_binary_accuracy: 0.8802\n",
      "Epoch 14/20\n",
      "15000/15000 [==============================] - 0s - loss: 0.3776 - binary_accuracy: 0.8573 - val_loss: 0.3465 - val_binary_accuracy: 0.8836\n",
      "Epoch 15/20\n",
      "15000/15000 [==============================] - 0s - loss: 0.3780 - binary_accuracy: 0.8585 - val_loss: 0.3357 - val_binary_accuracy: 0.8827\n",
      "Epoch 16/20\n",
      "15000/15000 [==============================] - 0s - loss: 0.3695 - binary_accuracy: 0.8604 - val_loss: 0.3458 - val_binary_accuracy: 0.8831\n",
      "Epoch 17/20\n",
      "15000/15000 [==============================] - 0s - loss: 0.3654 - binary_accuracy: 0.8630 - val_loss: 0.3410 - val_binary_accuracy: 0.8815\n",
      "Epoch 18/20\n",
      "15000/15000 [==============================] - 0s - loss: 0.3597 - binary_accuracy: 0.8683 - val_loss: 0.3467 - val_binary_accuracy: 0.8833\n",
      "Epoch 19/20\n",
      "15000/15000 [==============================] - 0s - loss: 0.3567 - binary_accuracy: 0.8650 - val_loss: 0.3423 - val_binary_accuracy: 0.8812\n",
      "Epoch 20/20\n",
      "15000/15000 [==============================] - 0s - loss: 0.3509 - binary_accuracy: 0.8663 - val_loss: 0.3541 - val_binary_accuracy: 0.8806\n"
     ]
    },
    {
     "data": {
      "image/png": "[encoded data removed]",
      "text/plain": [
       "<matplotlib.figure.Figure at 0x7f61b0cd5f28>"
      ]
     },
     "metadata": {},
     "output_type": "display_data"
    }
   ],
   "source": [
    "from keras import regularizers\n",
    "\n",
    "model = models.Sequential()\n",
    "model.add(layers.Dense(units=8, activation=activations.relu, kernel_regularizer=regularizers.l2(0.0005), input_shape=(NUM_WORDS,)))\n",
    "model.add(layers.Dropout(0.5))\n",
    "model.add(layers.Dense(units=4, activation=activations.relu, kernel_regularizer=regularizers.l2(0.0005)))\n",
    "model.add(layers.Dropout(0.5))\n",
    "model.add(layers.Dense(units=1, activation=activations.sigmoid))\n",
    "\n",
    "model.compile(optimizer=optimizers.RMSprop(),\n",
    "              loss=losses.binary_crossentropy,\n",
    "              metrics=[metrics.binary_accuracy])\n",
    "\n",
    "history = model.fit(x=partial_x_train,\n",
    "                    y=partial_y_train,\n",
    "                    epochs=20,\n",
    "                    batch_size=512,\n",
    "                    validation_data=(x_val, y_val))\n",
    "print('Final test accuracy: ', model.evaluate(x=x_test, y=y_test))\n",
    "plot_history(history)"
   ]
  }
 ],
 "metadata": {
  "kernelspec": {
   "display_name": "Python 3",
   "language": "python",
   "name": "python3"
  },
  "language_info": {
   "codemirror_mode": {
    "name": "ipython",
    "version": 3
   },
   "file_extension": ".py",
   "mimetype": "text/x-python",
   "name": "python",
   "nbconvert_exporter": "python",
   "pygments_lexer": "ipython3",
   "version": "3.6.1"
  }
 },
 "nbformat": 4,
 "nbformat_minor": 1
}
